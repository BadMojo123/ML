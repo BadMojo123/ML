{
  "nbformat": 4,
  "nbformat_minor": 0,
  "metadata": {
    "colab": {
      "name": "00_fundamentals.ipynb",
      "provenance": [],
      "collapsed_sections": [],
      "authorship_tag": "ABX9TyM3uyjSpCMIeDKRfhwg8VcA",
      "include_colab_link": true
    },
    "kernelspec": {
      "name": "python3",
      "display_name": "Python 3"
    },
    "language_info": {
      "name": "python"
    }
  },
  "cells": [
    {
      "cell_type": "markdown",
      "metadata": {
        "id": "view-in-github",
        "colab_type": "text"
      },
      "source": [
        "<a href=\"https://colab.research.google.com/github/BadMojo123/ML/blob/main/TfCertification/00_fundamentals.ipynb\" target=\"_parent\"><img src=\"https://colab.research.google.com/assets/colab-badge.svg\" alt=\"Open In Colab\"/></a>"
      ]
    },
    {
      "cell_type": "code",
      "execution_count": 2,
      "metadata": {
        "id": "lqlKQgfWIKYf"
      },
      "outputs": [],
      "source": [
        "#start!"
      ]
    },
    {
      "cell_type": "code",
      "source": [
        "import tensorflow as tf\n",
        "import numpy as np\n",
        "print(tf.__version__)\n",
        "\n"
      ],
      "metadata": {
        "colab": {
          "base_uri": "https://localhost:8080/"
        },
        "id": "L4yhrITxJXWF",
        "outputId": "a9a20e53-8cd2-4b26-c503-909062655120"
      },
      "execution_count": 3,
      "outputs": [
        {
          "output_type": "stream",
          "name": "stdout",
          "text": [
            "2.8.2\n"
          ]
        }
      ]
    },
    {
      "cell_type": "code",
      "source": [
        "scalar = tf.constant(7)\n",
        "scalar\n",
        "scalar.ndim"
      ],
      "metadata": {
        "colab": {
          "base_uri": "https://localhost:8080/"
        },
        "id": "_tIEjALgKBKd",
        "outputId": "8d17892f-b8fb-42f5-c7e6-5439d97aec2f"
      },
      "execution_count": 4,
      "outputs": [
        {
          "output_type": "execute_result",
          "data": {
            "text/plain": [
              "0"
            ]
          },
          "metadata": {},
          "execution_count": 4
        }
      ]
    },
    {
      "cell_type": "code",
      "source": [
        "vector1 = tf.constant([12,14])\n",
        "vector1\n",
        "vector1.ndim"
      ],
      "metadata": {
        "colab": {
          "base_uri": "https://localhost:8080/"
        },
        "id": "JN5qDkLfKeKy",
        "outputId": "b6e817ae-11e5-44c9-d009-e11068ae3e46"
      },
      "execution_count": 5,
      "outputs": [
        {
          "output_type": "execute_result",
          "data": {
            "text/plain": [
              "1"
            ]
          },
          "metadata": {},
          "execution_count": 5
        }
      ]
    },
    {
      "cell_type": "code",
      "source": [
        "matrix1 = tf.constant([[1,43],[34,65]])\n",
        "matrix1\n",
        "matrix1.ndim\n"
      ],
      "metadata": {
        "colab": {
          "base_uri": "https://localhost:8080/"
        },
        "id": "tWVX_p1UK04z",
        "outputId": "df01f434-2014-40ad-b72f-7f5c44a0540d"
      },
      "execution_count": 6,
      "outputs": [
        {
          "output_type": "execute_result",
          "data": {
            "text/plain": [
              "2"
            ]
          },
          "metadata": {},
          "execution_count": 6
        }
      ]
    },
    {
      "cell_type": "code",
      "source": [
        "matrix2 = tf.constant([[1,2,3],[5,6,7]],dtype=tf.float16)\n",
        "matrix2\n",
        "matrix2.ndim"
      ],
      "metadata": {
        "colab": {
          "base_uri": "https://localhost:8080/"
        },
        "id": "a-5GDD3HLz-w",
        "outputId": "d42a0d40-f481-4da7-e7a3-ebf87228b515"
      },
      "execution_count": 7,
      "outputs": [
        {
          "output_type": "execute_result",
          "data": {
            "text/plain": [
              "2"
            ]
          },
          "metadata": {},
          "execution_count": 7
        }
      ]
    },
    {
      "cell_type": "code",
      "source": [
        "# tensor = tf.constant()"
      ],
      "metadata": {
        "id": "kP1jCbgSMSzU"
      },
      "execution_count": 8,
      "outputs": []
    },
    {
      "cell_type": "code",
      "source": [
        "var1 = tf.Variable([11,14])\n",
        "var1[0].assign(1123)\n",
        "var1\n",
        "\n",
        "# vector1[0].assign(121)\n"
      ],
      "metadata": {
        "colab": {
          "base_uri": "https://localhost:8080/"
        },
        "id": "xzfqBNV5NMyP",
        "outputId": "28ef07ac-0a7b-40ce-d656-c8eb60fb9090"
      },
      "execution_count": 9,
      "outputs": [
        {
          "output_type": "execute_result",
          "data": {
            "text/plain": [
              "<tf.Variable 'Variable:0' shape=(2,) dtype=int32, numpy=array([1123,   14], dtype=int32)>"
            ]
          },
          "metadata": {},
          "execution_count": 9
        }
      ]
    },
    {
      "cell_type": "code",
      "source": [
        "randGenerator = tf.random.Generator.from_seed(22)\n",
        "print(randGenerator)\n",
        "rand = randGenerator.normal(shape=(3,6))\n",
        "print(rand)\n",
        "rand2 = randGenerator.uniform(shape=(3,6))\n",
        "print(rand2)\n",
        "print(rand == rand2)\n"
      ],
      "metadata": {
        "colab": {
          "base_uri": "https://localhost:8080/"
        },
        "id": "Pkju6p9ckiZb",
        "outputId": "8c2792a5-38be-4cb2-d10b-250585115acf"
      },
      "execution_count": 10,
      "outputs": [
        {
          "output_type": "stream",
          "name": "stdout",
          "text": [
            "<tensorflow.python.ops.stateful_random_ops.Generator object at 0x7f1a63586e10>\n",
            "tf.Tensor(\n",
            "[[-0.7531523   2.0261486  -0.06997604  0.85445154  0.1175475   0.03493892]\n",
            " [-1.5700307   0.4457582   0.10944034 -0.8035768  -1.7166729   0.3738578 ]\n",
            " [-0.14371012 -0.34646833  1.1456194  -0.416       0.43369916  1.0241015 ]], shape=(3, 6), dtype=float32)\n",
            "tf.Tensor(\n",
            "[[0.50262177 0.7719592  0.2117778  0.01571906 0.02157342 0.4694276 ]\n",
            " [0.76560867 0.8094878  0.9408673  0.7096205  0.49367034 0.812148  ]\n",
            " [0.7664677  0.14390814 0.63637483 0.24003983 0.16539216 0.45334506]], shape=(3, 6), dtype=float32)\n",
            "tf.Tensor(\n",
            "[[False False False False False False]\n",
            " [False False False False False False]\n",
            " [False False False False False False]], shape=(3, 6), dtype=bool)\n"
          ]
        }
      ]
    },
    {
      "cell_type": "code",
      "source": [
        "print(tf.random.shuffle(rand))\n"
      ],
      "metadata": {
        "colab": {
          "base_uri": "https://localhost:8080/"
        },
        "id": "YrChYnJU2Opj",
        "outputId": "7a2c984e-9355-4860-b2b0-bedbb3784591"
      },
      "execution_count": 11,
      "outputs": [
        {
          "output_type": "stream",
          "name": "stdout",
          "text": [
            "tf.Tensor(\n",
            "[[-0.7531523   2.0261486  -0.06997604  0.85445154  0.1175475   0.03493892]\n",
            " [-1.5700307   0.4457582   0.10944034 -0.8035768  -1.7166729   0.3738578 ]\n",
            " [-0.14371012 -0.34646833  1.1456194  -0.416       0.43369916  1.0241015 ]], shape=(3, 6), dtype=float32)\n"
          ]
        }
      ]
    },
    {
      "cell_type": "code",
      "source": [
        "tf.random.set_seed(22)\n",
        "print(tf.random.shuffle(rand,seed=33))\n"
      ],
      "metadata": {
        "colab": {
          "base_uri": "https://localhost:8080/"
        },
        "id": "dQhmgWKi3WLO",
        "outputId": "6f7f9b2a-3d07-430a-c065-68ebabf6cfaf"
      },
      "execution_count": 12,
      "outputs": [
        {
          "output_type": "stream",
          "name": "stdout",
          "text": [
            "tf.Tensor(\n",
            "[[-1.5700307   0.4457582   0.10944034 -0.8035768  -1.7166729   0.3738578 ]\n",
            " [-0.14371012 -0.34646833  1.1456194  -0.416       0.43369916  1.0241015 ]\n",
            " [-0.7531523   2.0261486  -0.06997604  0.85445154  0.1175475   0.03493892]], shape=(3, 6), dtype=float32)\n"
          ]
        }
      ]
    },
    {
      "cell_type": "code",
      "source": [
        "tf.zeros((10,3),dtype=tf.float16)"
      ],
      "metadata": {
        "colab": {
          "base_uri": "https://localhost:8080/"
        },
        "id": "rYN7qssS5Eo_",
        "outputId": "6c854da6-536b-4b3a-aef6-dd37960edb75"
      },
      "execution_count": 13,
      "outputs": [
        {
          "output_type": "execute_result",
          "data": {
            "text/plain": [
              "<tf.Tensor: shape=(10, 3), dtype=float16, numpy=\n",
              "array([[0., 0., 0.],\n",
              "       [0., 0., 0.],\n",
              "       [0., 0., 0.],\n",
              "       [0., 0., 0.],\n",
              "       [0., 0., 0.],\n",
              "       [0., 0., 0.],\n",
              "       [0., 0., 0.],\n",
              "       [0., 0., 0.],\n",
              "       [0., 0., 0.],\n",
              "       [0., 0., 0.]], dtype=float16)>"
            ]
          },
          "metadata": {},
          "execution_count": 13
        }
      ]
    },
    {
      "cell_type": "code",
      "source": [
        "vector_a = np.arange(0,22,dtype=np.float16)\n",
        "vector_a\n",
        "\n",
        "tensorFromNumpy = tf.constant(vector_a, shape=(2,11))\n",
        "print(tensorFromNumpy)\n",
        "tensorFromNumpy.ndim\n"
      ],
      "metadata": {
        "colab": {
          "base_uri": "https://localhost:8080/"
        },
        "id": "B7xqeS8KAVzj",
        "outputId": "5e661e73-b796-46c5-d8df-bf818e98fec4"
      },
      "execution_count": 14,
      "outputs": [
        {
          "output_type": "stream",
          "name": "stdout",
          "text": [
            "tf.Tensor(\n",
            "[[ 0.  1.  2.  3.  4.  5.  6.  7.  8.  9. 10.]\n",
            " [11. 12. 13. 14. 15. 16. 17. 18. 19. 20. 21.]], shape=(2, 11), dtype=float16)\n"
          ]
        },
        {
          "output_type": "execute_result",
          "data": {
            "text/plain": [
              "2"
            ]
          },
          "metadata": {},
          "execution_count": 14
        }
      ]
    },
    {
      "cell_type": "code",
      "source": [
        "Rank4Tensor = randGenerator.normal(shape=(2,3,4,5))\n",
        "Rank4Tensor.ndim\n",
        "print(f'Size of tensor{tf.size(Rank4Tensor)}')\n",
        "\n",
        "Rank4Tensor[:,:,:,1]\n",
        "\n"
      ],
      "metadata": {
        "colab": {
          "base_uri": "https://localhost:8080/"
        },
        "id": "aDUJxXuZ9BLg",
        "outputId": "a7eaf2d1-0774-4a43-eaf5-d771090a8664"
      },
      "execution_count": 15,
      "outputs": [
        {
          "output_type": "stream",
          "name": "stdout",
          "text": [
            "Size of tensor120\n"
          ]
        },
        {
          "output_type": "execute_result",
          "data": {
            "text/plain": [
              "<tf.Tensor: shape=(2, 3, 4), dtype=float32, numpy=\n",
              "array([[[ 0.5686429 ,  0.06753699,  0.10600277,  0.51010656],\n",
              "        [-0.7156006 ,  0.6539492 ,  0.67621213, -2.3856606 ],\n",
              "        [-0.34048697, -0.22617333,  0.63893604, -0.9314237 ]],\n",
              "\n",
              "       [[-2.0068674 , -0.86546683,  1.1681029 , -1.5956855 ],\n",
              "        [ 0.5900225 ,  0.50609887,  1.6251978 ,  0.4898146 ],\n",
              "        [-1.4549799 ,  1.6851732 ,  1.5699317 , -0.2931341 ]]],\n",
              "      dtype=float32)>"
            ]
          },
          "metadata": {},
          "execution_count": 15
        }
      ]
    },
    {
      "cell_type": "code",
      "source": [
        "tensor = tf.constant([[1,2,3],[13,14,15],[21,22,23]], dtype=tf.float16)\n",
        "tensor2 = tf.constant([[1,2,3],[13,14,15]], dtype=tf.float16)\n",
        "tensor2 = tf.reshape(tensor2,shape=(3,2))\n",
        "print(tensor)\n",
        "# print(tensor * tensor2)\n",
        "print(tensor @ tensor2)\n",
        "print(tf.matmul(tensor,tensor2))\n",
        "new = tf.matmul(tensor,tensor2)\n",
        "\n",
        "tensor2 = tf.transpose(tensor2)\n",
        "print(tensor2)\n",
        "tensor2 = tf.pow(tensor2,-1)\n",
        "print(tensor2)\n",
        "result = tf.matmul(new,tensor2)\n",
        "print(result)\n",
        "\n",
        "# matmulTest = tf.matmul(tensor,tensor)\n",
        "# matmulTest"
      ],
      "metadata": {
        "colab": {
          "base_uri": "https://localhost:8080/"
        },
        "id": "1lkJdg_fbYrj",
        "outputId": "5355b41f-a178-4fcd-ea05-5f2485808b55"
      },
      "execution_count": 16,
      "outputs": [
        {
          "output_type": "stream",
          "name": "stdout",
          "text": [
            "tf.Tensor(\n",
            "[[ 1.  2.  3.]\n",
            " [13. 14. 15.]\n",
            " [21. 22. 23.]], shape=(3, 3), dtype=float16)\n",
            "tf.Tensor(\n",
            "[[ 49.  73.]\n",
            " [265. 433.]\n",
            " [409. 673.]], shape=(3, 2), dtype=float16)\n",
            "tf.Tensor(\n",
            "[[ 49.  73.]\n",
            " [265. 433.]\n",
            " [409. 673.]], shape=(3, 2), dtype=float16)\n",
            "tf.Tensor(\n",
            "[[ 1.  3. 14.]\n",
            " [ 2. 13. 15.]], shape=(2, 3), dtype=float16)\n",
            "tf.Tensor(\n",
            "[[1.      0.3333  0.0714 ]\n",
            " [0.5     0.0769  0.06665]], shape=(2, 3), dtype=float16)\n",
            "tf.Tensor(\n",
            "[[ 85.5   21.94   8.37]\n",
            " [481.5  121.6   47.78]\n",
            " [745.5  188.    74.06]], shape=(3, 3), dtype=float16)\n"
          ]
        }
      ]
    },
    {
      "cell_type": "code",
      "source": [
        "X = tf.constant([[1,2],\n",
        "            [3,4],\n",
        "            [5,6]])\n",
        "\n",
        "Y = tf.constant([[11,12],\n",
        "            [23,24],\n",
        "            [35,36]])\n",
        "\n",
        "print(f'reshape: \\n {tf.matmul(X,tf.reshape(Y,shape=(2,3)))}' )\n",
        "print(f'transpose: \\n {tf.matmul(X,tf.transpose(Y))}' )\n",
        "\n",
        "print(f'transpose: \\n {tf.tensordot(X,tf.transpose(Y),axes=2)}' )\n",
        "\n"
      ],
      "metadata": {
        "colab": {
          "base_uri": "https://localhost:8080/"
        },
        "id": "FWFrEZfxPIqa",
        "outputId": "00fea42e-5a1d-429e-9ef1-f233d7793bb8"
      },
      "execution_count": 17,
      "outputs": [
        {
          "output_type": "stream",
          "name": "stdout",
          "text": [
            "reshape: \n",
            " [[ 59  82  95]\n",
            " [129 176 213]\n",
            " [199 270 331]]\n",
            "transpose: \n",
            " [[ 35  71 107]\n",
            " [ 81 165 249]\n",
            " [127 259 391]]\n",
            "transpose: \n",
            " 546\n"
          ]
        }
      ]
    },
    {
      "cell_type": "code",
      "source": [
        "C = tf.constant([[100,2,4],[6,4,100]])\n",
        "C.dtype\n",
        "\n",
        "# D = tf.cast(C,dtype=tf.dtypes.float16)\n",
        "# D.dtype\n",
        "\n",
        "# print(tf.argmax(C,axis=0))\n",
        "A = tf.argmax(C,axis=1)\n",
        "print(A)\n",
        "\n",
        "\n"
      ],
      "metadata": {
        "colab": {
          "base_uri": "https://localhost:8080/"
        },
        "id": "y9ou4FbetswN",
        "outputId": "e85097e3-b8e4-4932-dd85-5ccb00cfd238"
      },
      "execution_count": 18,
      "outputs": [
        {
          "output_type": "stream",
          "name": "stdout",
          "text": [
            "tf.Tensor([0 2], shape=(2,), dtype=int64)\n"
          ]
        }
      ]
    },
    {
      "cell_type": "code",
      "source": [
        "listA = [4,2,2]\n",
        "OHE = tf.one_hot(listA,depth = 6)\n",
        "\n",
        "print(OHE)"
      ],
      "metadata": {
        "colab": {
          "base_uri": "https://localhost:8080/"
        },
        "id": "vvShbUfmZ1FZ",
        "outputId": "e1564910-0e7b-4565-8717-c598d0d7fa9a"
      },
      "execution_count": 19,
      "outputs": [
        {
          "output_type": "stream",
          "name": "stdout",
          "text": [
            "tf.Tensor(\n",
            "[[0. 0. 0. 0. 1. 0.]\n",
            " [0. 0. 1. 0. 0. 0.]\n",
            " [0. 0. 1. 0. 0. 0.]], shape=(3, 6), dtype=float32)\n"
          ]
        }
      ]
    },
    {
      "cell_type": "code",
      "source": [
        "sqrt = tf.constant(1/2)\n",
        "\n",
        "print(tf.pow(2.,0.5))"
      ],
      "metadata": {
        "colab": {
          "base_uri": "https://localhost:8080/"
        },
        "id": "GcwJw41UbC7j",
        "outputId": "6a55aebc-4016-4c67-e9af-8e1154de2b5a"
      },
      "execution_count": 22,
      "outputs": [
        {
          "output_type": "stream",
          "name": "stdout",
          "text": [
            "tf.Tensor(1.4142135, shape=(), dtype=float32)\n"
          ]
        }
      ]
    }
  ]
}